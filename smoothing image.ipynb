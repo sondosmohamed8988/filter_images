{
 "cells": [
  {
   "cell_type": "code",
   "execution_count": null,
   "id": "bb41b1f1",
   "metadata": {},
   "outputs": [],
   "source": [
    "import cv2\n",
    "import numpy as np\n",
    "\n",
    "img = cv2.imread(\"D:\\sp_img_gray_noise_heavy.png\")#path and name image\n",
    "\n",
    "averaging = cv2.blur(img, (21, 21))\n",
    "gaussian = cv2.GaussianBlur(img, (21, 21), 0)\n",
    "median = cv2.medianBlur(img, 5)# salt and paper\n",
    "bilateral = cv2.bilateralFilter(img, 9, 350, 350)\n",
    "\n",
    "cv2.imshow(\"Original image\", img)\n",
    "cv2.imshow(\"Averaging\", averaging)\n",
    "cv2.imshow(\"Gaussian\", gaussian)\n",
    "cv2.imshow(\"Median\", median)\n",
    "cv2.imshow(\"Bilateral\", bilateral)\n",
    "\n",
    "cv2.waitKey(0)"
   ]
  },
  {
   "cell_type": "code",
   "execution_count": null,
   "id": "f94487bf",
   "metadata": {},
   "outputs": [],
   "source": []
  }
 ],
 "metadata": {
  "kernelspec": {
   "display_name": "Python 3 (ipykernel)",
   "language": "python",
   "name": "python3"
  },
  "language_info": {
   "codemirror_mode": {
    "name": "ipython",
    "version": 3
   },
   "file_extension": ".py",
   "mimetype": "text/x-python",
   "name": "python",
   "nbconvert_exporter": "python",
   "pygments_lexer": "ipython3",
   "version": "3.11.4"
  }
 },
 "nbformat": 4,
 "nbformat_minor": 5
}
